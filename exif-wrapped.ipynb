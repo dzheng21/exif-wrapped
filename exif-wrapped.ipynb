{
 "cells": [
  {
   "cell_type": "markdown",
   "metadata": {},
   "source": [
    "# EXIF Wrapped\n",
    "\n",
    "Analyzer for photo metadata.\n",
    "\n",
    "Summarize your photo-taking habits along important metrics: `Focal Length`, `Aperature`, `ISO`, `Shutter Speed`."
   ]
  },
  {
   "cell_type": "markdown",
   "metadata": {},
   "source": [
    "## 1. Quickstart: Define local variables\n",
    "\n",
    "1. Set `camera_model` to the name of your camera, including any spaces necessary (not case sensitive). \n",
    "2. Set the `directory` to the base folder of where your images are located.\n",
    "    - Hint: Change directory `cd` to the deepest/innermost (child-most) folder that still contains *all* of your photos. Use `pwd` to display the path to that directory, and set it to `directory`.\n",
    "3. (*optional*) Set `output_dir` to save your data to .csv format and plots as images. "
   ]
  },
  {
   "cell_type": "code",
   "execution_count": null,
   "metadata": {},
   "outputs": [],
   "source": [
    "camera_model = 'Nikon Z 5'                                          # Replace with camera name\n",
    "directory = '/Users/derekzheng/Pictures/Lightroom Saved Photos'     # Replace with path to images\n",
    "output_dir = '/Users/derekzheng/Documents/Code/dz-img-analysis'     # (optional) Specify output file destination"
   ]
  },
  {
   "cell_type": "markdown",
   "metadata": {},
   "source": [
    "## 2. Run!\n",
    "\n",
    "After completion of the above, hit `Run All` and you should see your results at the bottom!"
   ]
  },
  {
   "cell_type": "code",
   "execution_count": null,
   "metadata": {},
   "outputs": [],
   "source": [
    "# Import basics\n",
    "import os\n",
    "import pandas as pd\n",
    "import matplotlib.pyplot as plt\n",
    "from PIL import Image\n",
    "from PIL.ExifTags import TAGS\n",
    "from fractions import Fraction\n",
    "\n",
    "EXIF_DIMS = ['Focal Length', 'Aperture', 'ISO', 'Shutter Speed']"
   ]
  },
  {
   "cell_type": "code",
   "execution_count": null,
   "metadata": {},
   "outputs": [],
   "source": [
    "def get_exif_data(image_path):\n",
    "    image = Image.open(image_path)\n",
    "    exif_data = {}\n",
    "    info = image._getexif()\n",
    "    if info:\n",
    "        for tag_id, value in info.items():\n",
    "            tag = TAGS.get(tag_id, tag_id)\n",
    "            exif_data[tag] = value\n",
    "    return exif_data"
   ]
  },
  {
   "cell_type": "code",
   "execution_count": null,
   "metadata": {},
   "outputs": [],
   "source": [
    "other_cameras_found = set()\n",
    "\n",
    "def analyze_photos(directory, camera_model=None):\n",
    "    data = []\n",
    "    for root, dirs, files in os.walk(directory):\n",
    "        for file in files:\n",
    "            if file.lower().endswith(('.jpg', '.jpeg', '.png', '.tiff')):\n",
    "                file_path = os.path.join(root, file)\n",
    "                try:\n",
    "                    with Image.open(file_path) as image:\n",
    "                        exif_data = {}\n",
    "                        info = image._getexif()\n",
    "                        if info:\n",
    "                            for tag_id, value in info.items():\n",
    "                                tag = TAGS.get(tag_id, tag_id)\n",
    "                                exif_data[tag] = value\n",
    "\n",
    "                        if camera_model and exif_data.get('Model').lower() != camera_model.lower():\n",
    "                            # print(f\"Skipping, file {file}, is from {exif_data.get('Model')}\")\n",
    "                            other_cameras_found.add(exif_data.get('Model'))\n",
    "                            continue\n",
    "\n",
    "                        focal_length = exif_data.get('FocalLength', (0, 1))\n",
    "                        focal_length = focal_length[0] / focal_length[1] if isinstance(\n",
    "                            focal_length, tuple) else focal_length\n",
    "\n",
    "                        aperture = exif_data.get('FNumber', (0, 1))\n",
    "                        aperture = aperture[0] / aperture[1] if isinstance(\n",
    "                            aperture, tuple) else aperture\n",
    "\n",
    "                        iso = exif_data.get('ISOSpeedRatings')\n",
    "\n",
    "                        shutter_speed = exif_data.get('ExposureTime', (0, 1))\n",
    "                        shutter_speed = shutter_speed[0] / shutter_speed[1] if isinstance(\n",
    "                            shutter_speed, tuple) else shutter_speed\n",
    "\n",
    "                        data.append({\n",
    "                            'Focal Length': focal_length,\n",
    "                            'Aperture': aperture,\n",
    "                            'ISO': iso,\n",
    "                            'Shutter Speed': shutter_speed\n",
    "                        })\n",
    "                except Exception as e:\n",
    "                    print(f\"Error processing {file}: {str(e)}\")\n",
    "\n",
    "    return pd.DataFrame(data)"
   ]
  },
  {
   "cell_type": "code",
   "execution_count": null,
   "metadata": {},
   "outputs": [],
   "source": [
    "def plot(directory, camera_model=None, output_dir=None):\n",
    "    print(f\"Analyzing photos in: {directory}\")\n",
    "    if camera_model:\n",
    "        print(f\"Filtering for camera model: {camera_model}\")\n",
    "    \n",
    "    df = df_new\n",
    "    \n",
    "    if df.empty:\n",
    "        print(\"No photos found matching the criteria.\")\n",
    "        return\n",
    "    \n",
    "    print(f\"Processed {len(df)} photos.\")\n",
    "    print(f\"Other cameras found: {other_cameras_found}\")\n",
    "    \n",
    "    # Calculate statistics\n",
    "    stats = df.describe(include='all')\n",
    "    print(\"\\nStatistics:\")\n",
    "    print(stats)\n",
    "\n",
    "        # Plot histograms\n",
    "    fig, axs = plt.subplots(2, 2, figsize=(15, 15))\n",
    "    df['Focal Length'].hist(ax=axs[0, 0], bins=20)\n",
    "    axs[0, 0].set_title('Focal Length Distribution')\n",
    "    axs[0, 0].set_xlabel('Focal Length (mm)')\n",
    "    \n",
    "    df['Aperture'].hist(ax=axs[0, 1], bins=20)\n",
    "    axs[0, 1].set_title('Aperture Distribution')\n",
    "    axs[0, 1].set_xlabel('Aperture (f-number)')\n",
    "    \n",
    "    df['ISO'].hist(ax=axs[1, 0], bins=20)\n",
    "    axs[1, 0].set_title('ISO Distribution')\n",
    "    axs[1, 0].set_xlabel('ISO')\n",
    "    \n",
    "    df['Shutter Speed'].hist(ax=axs[1, 1], bins=20)\n",
    "    axs[1, 1].set_title('Shutter Speed Distribution')\n",
    "    axs[1, 1].set_xlabel('Shutter Speed (seconds)')\n",
    "    \n",
    "    plt.tight_layout()\n",
    "    \n",
    "    if output_dir:\n",
    "        if not os.path.exists(output_dir):\n",
    "            os.makedirs(output_dir)\n",
    "        plt.savefig(os.path.join(output_dir, 'photo_stats.png'))\n",
    "        df.to_csv(os.path.join(output_dir, 'photo_data.csv'), index=False)\n",
    "        stats.to_csv(os.path.join(output_dir, 'photo_stats.csv'))\n",
    "    else:\n",
    "        plt.show()"
   ]
  },
  {
   "cell_type": "markdown",
   "metadata": {},
   "source": [
    "### Optional - Analysis of errors\n",
    "\n",
    "Sometimes there are some photos taken on different devices, with different formats, or no EXIF data at all. You'll see any errors in the analysis phase below:"
   ]
  },
  {
   "cell_type": "code",
   "execution_count": null,
   "metadata": {},
   "outputs": [],
   "source": [
    "df_cache = analyze_photos(directory, camera_model)"
   ]
  },
  {
   "cell_type": "markdown",
   "metadata": {},
   "source": [
    "## 3. Results\n",
    "- View high level statistics such as averages, mode, median for all standard dimensions.\n",
    "- View histogram plot for all standard dimensions.\n",
    "- View histogra plots for a specific dimension."
   ]
  },
  {
   "cell_type": "code",
   "execution_count": null,
   "metadata": {},
   "outputs": [],
   "source": [
    "def rational_to_float(value):\n",
    "    if isinstance(value, tuple) and len(value) == 2:\n",
    "        return value[0] / value[1]\n",
    "    return float(value)\n",
    "\n",
    "df_new = df_cache.copy()\n",
    "\n",
    "# Convert columns to float\n",
    "for column in EXIF_DIMS:\n",
    "    df_new[column] = df_new[column].apply(rational_to_float)\n",
    "\n",
    "# Now calculate statistics\n",
    "columns = df_new.columns\n",
    "\n",
    "for column in columns:\n",
    "    print(f\"\\nStatistics for {column}:\")\n",
    "    \n",
    "    # Mean\n",
    "    mean = df_new[column].mean()\n",
    "    print(f\"Mean: {mean:.2f}\")\n",
    "    \n",
    "    # Mode\n",
    "    mode = df_new[column].mode().values\n",
    "    if len(mode) == 1:\n",
    "        print(f\"Mode: {mode[0]:.2f}\")\n",
    "    else:\n",
    "        print(f\"Mode: {', '.join([f'{m:.2f}' for m in mode])}\")\n",
    "    \n",
    "    # Median\n",
    "    median = df_new[column].median()\n",
    "    print(f\"Median: {median:.2f}\")"
   ]
  },
  {
   "cell_type": "code",
   "execution_count": null,
   "metadata": {},
   "outputs": [],
   "source": [
    "# Histogram plots for all dimensions\n",
    "plot(directory, camera_model=camera_model, output_dir=None)"
   ]
  },
  {
   "cell_type": "markdown",
   "metadata": {},
   "source": [
    "### Optional: Dive deeper into a specific dimension\n",
    "\n",
    "Here, we have an example in which we want to see a histogram for `Aperature` but within the specific range of `<4.0`. We can set `upper_trim_value` to `4.0`."
   ]
  },
  {
   "cell_type": "code",
   "execution_count": null,
   "metadata": {},
   "outputs": [],
   "source": [
    "# Edit these to your liking!\n",
    "trim_dimension = 'Aperture'               # 'Focal Length', 'Aperture', 'ISO', or 'Shutter Speed'\n",
    "upper_trim_value = 4.0                    # Value dependent on trim_dimension (i.e. under 80mm, under f/4, ISO 16000, or Shutter 1/4)\n",
    "\n",
    "assert(trim_dimension in EXIF_DIMS)     "
   ]
  },
  {
   "cell_type": "code",
   "execution_count": null,
   "metadata": {},
   "outputs": [],
   "source": [
    "df_trim = df_new[trim_dimension].copy()\n",
    "df_trim.head()\n",
    "df_trim = df_trim[df_trim < upper_trim_value]"
   ]
  },
  {
   "cell_type": "code",
   "execution_count": null,
   "metadata": {},
   "outputs": [],
   "source": [
    "plt.figure(figsize=(5,5))\n",
    "df_trim.hist(bins=20)\n",
    "plt.title(f'{trim_dimension} Distribution, under {upper_trim_value}')\n",
    "plt.xlabel(f'{trim_dimension}')\n",
    "\n",
    "plt.show()"
   ]
  }
 ],
 "metadata": {
  "kernelspec": {
   "display_name": "Python 3",
   "language": "python",
   "name": "python3"
  },
  "language_info": {
   "codemirror_mode": {
    "name": "ipython",
    "version": 3
   },
   "file_extension": ".py",
   "mimetype": "text/x-python",
   "name": "python",
   "nbconvert_exporter": "python",
   "pygments_lexer": "ipython3",
   "version": "3.10.6"
  }
 },
 "nbformat": 4,
 "nbformat_minor": 2
}
